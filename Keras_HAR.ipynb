{
 "metadata": {
  "name": ""
 },
 "nbformat": 3,
 "nbformat_minor": 0,
 "worksheets": [
  {
   "cells": [
    {
     "cell_type": "heading",
     "level": 1,
     "metadata": {},
     "source": [
      "Comparing CNN's and RNN's for time series classification on the Human Activity Recognition dataset"
     ]
    },
    {
     "cell_type": "heading",
     "level": 4,
     "metadata": {},
     "source": [
      "Importing libraries"
     ]
    },
    {
     "cell_type": "code",
     "collapsed": false,
     "input": [
      "import pandas as pd\n",
      "import numpy as np\n",
      "import keras\n",
      "from os import listdir\n",
      "from utilities import *\n",
      "from sklearn.model_selection import train_test_split\n",
      "import matplotlib.pyplot as plt\n",
      "%matplotlib inline"
     ],
     "language": "python",
     "metadata": {},
     "outputs": [],
     "prompt_number": 53
    },
    {
     "cell_type": "heading",
     "level": 4,
     "metadata": {},
     "source": [
      "Defining key variables"
     ]
    },
    {
     "cell_type": "code",
     "collapsed": false,
     "input": [
      "time_steps=128\n",
      "channels=9\n",
      "batch=600"
     ],
     "language": "python",
     "metadata": {},
     "outputs": [],
     "prompt_number": 42
    },
    {
     "cell_type": "heading",
     "level": 4,
     "metadata": {},
     "source": [
      "Loading the train and test data"
     ]
    },
    {
     "cell_type": "markdown",
     "metadata": {},
     "source": [
      "This module reads data from folders and arranges it into (data_points,time_steps,channels) format."
     ]
    },
    {
     "cell_type": "code",
     "collapsed": false,
     "input": [
      "# Loading train and test data\n",
      "path=\"UCI HAR Dataset/UCI HAR Dataset/\"\n",
      "features=[x for x in listdir(path+\"train/Inertial Signals\") if '~' not in x]\n",
      "features.sort()\n",
      "features1=[x for x in listdir(path+\"test/Inertial Signals\") if '~' not in x]\n",
      "features1.sort()\n",
      "\n",
      "y_train=np.loadtxt(path+\"train/y_train.txt\")-1\n",
      "y_test=np.loadtxt(path+\"test/y_test.txt\")-1\n",
      "\n",
      "train_data=np.zeros((y_train.shape[0],time_steps,channels))\n",
      "test_data=np.zeros((y_test.shape[0],time_steps,channels))\n",
      "\n",
      "for i in range(len(features)):\n",
      "    tr_data=np.loadtxt(path+'/train/Inertial Signals/'+features[i])\n",
      "    te_data=np.loadtxt(path+'/test/Inertial Signals/'+features1[i])\n",
      "    \n",
      "    train_data[:,:,i]=tr_data\n",
      "    test_data[:,:,i]=te_data\n",
      "    \n",
      "print(train_data.shape)\n",
      "print(test_data.shape)"
     ],
     "language": "python",
     "metadata": {},
     "outputs": [
      {
       "output_type": "stream",
       "stream": "stdout",
       "text": [
        "(7352, 128, 9)\n",
        "(2947, 128, 9)\n"
       ]
      },
      {
       "output_type": "stream",
       "stream": "stdout",
       "text": [
        "(7352, 128, 9)\n",
        "(2947, 128, 9)\n"
       ]
      }
     ],
     "prompt_number": 43
    },
    {
     "cell_type": "markdown",
     "metadata": {},
     "source": [
      "This is another way to load the data which uses a custom built \"read_data\" function from the utlities.py file."
     ]
    },
    {
     "cell_type": "code",
     "collapsed": false,
     "input": [
      "train_data, y_train, list_ch_train = read_data(data_path=\"data/\", split=\"train\") # train\n",
      "test_data, y_test, list_ch_test = read_data(data_path=\"data/\", split=\"test\") # test\n",
      "\n",
      "y_train=np.array([x-1 for x in y_train])\n",
      "y_test=np.array([x-1 for x in y_test])"
     ],
     "language": "python",
     "metadata": {},
     "outputs": [],
     "prompt_number": 40
    },
    {
     "cell_type": "heading",
     "level": 4,
     "metadata": {},
     "source": [
      "Normalizing the data"
     ]
    },
    {
     "cell_type": "markdown",
     "metadata": {},
     "source": [
      "Two different techniques for normalizing the data. The first normalizes data for each of the 9 channels. The second one normalizies data for each time step across the 9 channels. Prefer using the first one."
     ]
    },
    {
     "cell_type": "code",
     "collapsed": false,
     "input": [
      "# Here,try two different methods of normalization.\n",
      "# First way: Normalize for each channels\n",
      "for i in range(channels):\n",
      "    train_data[:,:,i]=(train_data[:,:,i]-np.mean(train_data[:,:,i]))/np.std(train_data[:,:,i])\n",
      "    test_data[:,:,i]=(test_data[:,:,i]-np.mean(test_data[:,:,i]))/np.std(test_data[:,:,i])\n",
      "    \n",
      "# Second way: As done online\n",
      "# train_data=(train_data-np.mean(train_data,axis=0)[None,:,:])/np.std(train_data,axis=0)[None,:,:]\n",
      "# test_data=(test_data-np.mean(test_data,axis=0)[None,:,:])/np.std(test_data,axis=0)[None,:,:]\n",
      "\n",
      "print(train_data.shape)\n",
      "print(test_data.shape)\n",
      "print(y_train.shape)\n",
      "print(y_test.shape)"
     ],
     "language": "python",
     "metadata": {},
     "outputs": [
      {
       "output_type": "stream",
       "stream": "stdout",
       "text": [
        "(7352, 128, 9)\n",
        "(2947, 128, 9)\n",
        "(7352,)\n",
        "(2947,)\n"
       ]
      }
     ],
     "prompt_number": 44
    },
    {
     "cell_type": "heading",
     "level": 4,
     "metadata": {},
     "source": [
      "Splitting into train and validation set using stratifed split"
     ]
    },
    {
     "cell_type": "markdown",
     "metadata": {},
     "source": [
      "Splits the train data into train and validation datasets using stratified splitting so that ratio of each class in both datasets is equal."
     ]
    },
    {
     "cell_type": "code",
     "collapsed": false,
     "input": [
      "# Train-Val split\n",
      "x_train,x_val,y_train,y_val=train_test_split(train_data,y_train,stratify=y_train,random_state=123)\n",
      "print(y_train.shape)\n",
      "print(y_train[0])"
     ],
     "language": "python",
     "metadata": {},
     "outputs": [
      {
       "output_type": "stream",
       "stream": "stdout",
       "text": [
        "(5514,)\n",
        "5.0\n"
       ]
      }
     ],
     "prompt_number": 45
    },
    {
     "cell_type": "heading",
     "level": 4,
     "metadata": {},
     "source": [
      "One-hot encoding of data"
     ]
    },
    {
     "cell_type": "markdown",
     "metadata": {},
     "source": [
      "Onehot encodes the labels. There are a total of 6 classes (0-5). So,for a label of 1,the onehot encoding is [0,1,0,0,0,0]."
     ]
    },
    {
     "cell_type": "code",
     "collapsed": false,
     "input": [
      "from keras.utils import to_categorical\n",
      "# One hot encoding of labels\n",
      "y_train=to_categorical(y_train)\n",
      "y_val=to_categorical(y_val)\n",
      "y_test=to_categorical(y_test)\n",
      "\n",
      "print(y_train.shape)\n"
     ],
     "language": "python",
     "metadata": {},
     "outputs": [
      {
       "output_type": "stream",
       "stream": "stdout",
       "text": [
        "(5514, 6)\n"
       ]
      }
     ],
     "prompt_number": 46
    },
    {
     "cell_type": "heading",
     "level": 4,
     "metadata": {},
     "source": [
      "Convolutional Neural Network"
     ]
    },
    {
     "cell_type": "markdown",
     "metadata": {},
     "source": [
      "This module defines a convolutional neural network whose structure can be seen using model.summary() function."
     ]
    },
    {
     "cell_type": "code",
     "collapsed": false,
     "input": [
      "from keras.layers import Dense,Dropout,Conv1D,BatchNormalization,MaxPool1D,Flatten\n",
      "from keras.models import Sequential\n",
      "from keras.callbacks import History\n",
      "\n",
      "history=History()\n",
      "\n",
      "model=Sequential()\n",
      "model.add(Conv1D(filters=18,kernel_size=2,strides=1,padding='same',activation='relu',input_shape=(time_steps,channels)))\n",
      "model.add(MaxPool1D(pool_size=2,strides=2,padding='same'))\n",
      "model.add(Conv1D(filters=36,kernel_size=2,strides=1,padding='same',activation='relu'))\n",
      "model.add(MaxPool1D(pool_size=2,strides=2,padding='same'))\n",
      "model.add(Conv1D(filters=72,kernel_size=2,strides=1,padding='same',activation='relu'))\n",
      "model.add(MaxPool1D(pool_size=2,strides=2,padding='same'))\n",
      "model.add(Conv1D(filters=144,kernel_size=2,strides=1,padding='same',activation='relu'))\n",
      "model.add(MaxPool1D(pool_size=2,strides=2,padding='same'))\n",
      "model.add(Flatten())\n",
      "model.add(Dropout(0.5))\n",
      "model.add(Dense(6,activation='softmax'))\n",
      "\n",
      "print(model.summary())\n",
      "adam=keras.optimizers.Adam(lr=0.0001)\n",
      "\n",
      "model.compile(loss='categorical_crossentropy',metrics=['accuracy'],optimizer=adam)\n",
      "history=model.fit(x_train,y_train,batch_size=600,epochs=100,verbose=2,validation_data=(x_val,y_val),shuffle=True)"
     ],
     "language": "python",
     "metadata": {},
     "outputs": [
      {
       "output_type": "stream",
       "stream": "stdout",
       "text": [
        "_________________________________________________________________\n",
        "Layer (type)                 Output Shape              Param #   \n",
        "=================================================================\n",
        "conv1d_13 (Conv1D)           (None, 128, 18)           342       \n",
        "_________________________________________________________________\n",
        "max_pooling1d_13 (MaxPooling (None, 64, 18)            0         \n",
        "_________________________________________________________________\n",
        "conv1d_14 (Conv1D)           (None, 64, 36)            1332      \n",
        "_________________________________________________________________\n",
        "max_pooling1d_14 (MaxPooling (None, 32, 36)            0         \n",
        "_________________________________________________________________\n",
        "conv1d_15 (Conv1D)           (None, 32, 72)            5256      \n",
        "_________________________________________________________________\n",
        "max_pooling1d_15 (MaxPooling (None, 16, 72)            0         \n",
        "_________________________________________________________________\n",
        "conv1d_16 (Conv1D)           (None, 16, 144)           20880     \n",
        "_________________________________________________________________\n",
        "max_pooling1d_16 (MaxPooling (None, 8, 144)            0         \n",
        "_________________________________________________________________\n",
        "flatten_4 (Flatten)          (None, 1152)              0         \n",
        "_________________________________________________________________\n",
        "dropout_4 (Dropout)          (None, 1152)              0         \n",
        "_________________________________________________________________\n",
        "dense_17 (Dense)             (None, 6)                 6918      \n",
        "=================================================================\n",
        "Total params: 34,728\n",
        "Trainable params: 34,728\n",
        "Non-trainable params: 0\n",
        "_________________________________________________________________\n",
        "None\n",
        "Train on 5514 samples, validate on 1838 samples"
       ]
      },
      {
       "output_type": "stream",
       "stream": "stdout",
       "text": [
        "\n",
        "Epoch 1/100\n",
        " - 3s - loss: 1.8113 - acc: 0.1846 - val_loss: 1.7103 - val_acc: 0.1578\n"
       ]
      },
      {
       "output_type": "stream",
       "stream": "stdout",
       "text": [
        "Epoch 2/100\n",
        " - 1s - loss: 1.7199 - acc: 0.1861 - val_loss: 1.6410 - val_acc: 0.1687\n"
       ]
      },
      {
       "output_type": "stream",
       "stream": "stdout",
       "text": [
        "Epoch 3/100\n",
        " - 1s - loss: 1.6589 - acc: 0.1984 - val_loss: 1.5906 - val_acc: 0.1763\n"
       ]
      },
      {
       "output_type": "stream",
       "stream": "stdout",
       "text": [
        "Epoch 4/100\n",
        " - 1s - loss: 1.6116 - acc: 0.2292 - val_loss: 1.5455 - val_acc: 0.3319\n"
       ]
      },
      {
       "output_type": "stream",
       "stream": "stdout",
       "text": [
        "Epoch 5/100\n",
        " - 1s - loss: 1.5631 - acc: 0.2818 - val_loss: 1.4995 - val_acc: 0.3732\n"
       ]
      },
      {
       "output_type": "stream",
       "stream": "stdout",
       "text": [
        "Epoch 6/100\n",
        " - 1s - loss: 1.5121 - acc: 0.3350 - val_loss: 1.4484 - val_acc: 0.3885\n"
       ]
      },
      {
       "output_type": "stream",
       "stream": "stdout",
       "text": [
        "Epoch 7/100\n",
        " - 1s - loss: 1.4664 - acc: 0.3725 - val_loss: 1.3920 - val_acc: 0.4249\n"
       ]
      },
      {
       "output_type": "stream",
       "stream": "stdout",
       "text": [
        "Epoch 8/100\n",
        " - 1s - loss: 1.4005 - acc: 0.4213 - val_loss: 1.3302 - val_acc: 0.5076\n"
       ]
      },
      {
       "output_type": "stream",
       "stream": "stdout",
       "text": [
        "Epoch 9/100\n",
        " - 1s - loss: 1.3421 - acc: 0.4536 - val_loss: 1.2680 - val_acc: 0.5446\n"
       ]
      },
      {
       "output_type": "stream",
       "stream": "stdout",
       "text": [
        "Epoch 10/100\n",
        " - 1s - loss: 1.2836 - acc: 0.5011 - val_loss: 1.2072 - val_acc: 0.5925\n"
       ]
      },
      {
       "output_type": "stream",
       "stream": "stdout",
       "text": [
        "Epoch 11/100\n",
        " - 1s - loss: 1.2246 - acc: 0.5368 - val_loss: 1.1515 - val_acc: 0.6295\n"
       ]
      },
      {
       "output_type": "stream",
       "stream": "stdout",
       "text": [
        "Epoch 12/100\n",
        " - 1s - loss: 1.1750 - acc: 0.5776 - val_loss: 1.0998 - val_acc: 0.6632\n"
       ]
      },
      {
       "output_type": "stream",
       "stream": "stdout",
       "text": [
        "Epoch 13/100\n",
        " - 1s - loss: 1.1283 - acc: 0.6026 - val_loss: 1.0510 - val_acc: 0.6823\n"
       ]
      },
      {
       "output_type": "stream",
       "stream": "stdout",
       "text": [
        "Epoch 14/100\n",
        " - 1s - loss: 1.0768 - acc: 0.6302 - val_loss: 1.0035 - val_acc: 0.7149\n"
       ]
      },
      {
       "output_type": "stream",
       "stream": "stdout",
       "text": [
        "Epoch 15/100\n",
        " - 1s - loss: 1.0294 - acc: 0.6532 - val_loss: 0.9567 - val_acc: 0.7356\n"
       ]
      },
      {
       "output_type": "stream",
       "stream": "stdout",
       "text": [
        "Epoch 16/100\n",
        " - 1s - loss: 0.9769 - acc: 0.6902 - val_loss: 0.9087 - val_acc: 0.7666\n"
       ]
      },
      {
       "output_type": "stream",
       "stream": "stdout",
       "text": [
        "Epoch 17/100\n",
        " - 1s - loss: 0.9397 - acc: 0.6942 - val_loss: 0.8596 - val_acc: 0.7715\n"
       ]
      },
      {
       "output_type": "stream",
       "stream": "stdout",
       "text": [
        "Epoch 18/100\n",
        " - 1s - loss: 0.8942 - acc: 0.7144 - val_loss: 0.8098 - val_acc: 0.7960\n"
       ]
      },
      {
       "output_type": "stream",
       "stream": "stdout",
       "text": [
        "Epoch 19/100\n",
        " - 1s - loss: 0.8374 - acc: 0.7339 - val_loss: 0.7596 - val_acc: 0.8107\n"
       ]
      },
      {
       "output_type": "stream",
       "stream": "stdout",
       "text": [
        "Epoch 20/100\n",
        " - 1s - loss: 0.7919 - acc: 0.7494 - val_loss: 0.7101 - val_acc: 0.8226\n"
       ]
      },
      {
       "output_type": "stream",
       "stream": "stdout",
       "text": [
        "Epoch 21/100\n",
        " - 1s - loss: 0.7425 - acc: 0.7662 - val_loss: 0.6623 - val_acc: 0.8400\n"
       ]
      },
      {
       "output_type": "stream",
       "stream": "stdout",
       "text": [
        "Epoch 22/100\n",
        " - 1s - loss: 0.6897 - acc: 0.7749 - val_loss: 0.6163 - val_acc: 0.8493\n"
       ]
      },
      {
       "output_type": "stream",
       "stream": "stdout",
       "text": [
        "Epoch 23/100\n",
        " - 1s - loss: 0.6501 - acc: 0.7818 - val_loss: 0.5742 - val_acc: 0.8558\n"
       ]
      },
      {
       "output_type": "stream",
       "stream": "stdout",
       "text": [
        "Epoch 24/100\n",
        " - 1s - loss: 0.6122 - acc: 0.7992 - val_loss: 0.5337 - val_acc: 0.8700\n"
       ]
      },
      {
       "output_type": "stream",
       "stream": "stdout",
       "text": [
        "Epoch 25/100\n",
        " - 2s - loss: 0.5710 - acc: 0.8108 - val_loss: 0.4976 - val_acc: 0.8754\n"
       ]
      },
      {
       "output_type": "stream",
       "stream": "stdout",
       "text": [
        "Epoch 26/100\n",
        " - 2s - loss: 0.5336 - acc: 0.8186 - val_loss: 0.4646 - val_acc: 0.8792\n"
       ]
      },
      {
       "output_type": "stream",
       "stream": "stdout",
       "text": [
        "Epoch 27/100\n",
        " - 2s - loss: 0.4954 - acc: 0.8326 - val_loss: 0.4351 - val_acc: 0.8830\n"
       ]
      },
      {
       "output_type": "stream",
       "stream": "stdout",
       "text": [
        "Epoch 28/100\n",
        " - 1s - loss: 0.4740 - acc: 0.8319 - val_loss: 0.4096 - val_acc: 0.8857\n"
       ]
      },
      {
       "output_type": "stream",
       "stream": "stdout",
       "text": [
        "Epoch 29/100\n",
        " - 1s - loss: 0.4510 - acc: 0.8391 - val_loss: 0.3852 - val_acc: 0.8874\n"
       ]
      },
      {
       "output_type": "stream",
       "stream": "stdout",
       "text": [
        "Epoch 30/100\n",
        " - 1s - loss: 0.4221 - acc: 0.8511 - val_loss: 0.3651 - val_acc: 0.8961\n"
       ]
      },
      {
       "output_type": "stream",
       "stream": "stdout",
       "text": [
        "Epoch 31/100\n",
        " - 1s - loss: 0.4013 - acc: 0.8576 - val_loss: 0.3452 - val_acc: 0.8999\n"
       ]
      },
      {
       "output_type": "stream",
       "stream": "stdout",
       "text": [
        "Epoch 32/100\n",
        " - 1s - loss: 0.3746 - acc: 0.8663 - val_loss: 0.3284 - val_acc: 0.9053\n"
       ]
      },
      {
       "output_type": "stream",
       "stream": "stdout",
       "text": [
        "Epoch 33/100\n",
        " - 1s - loss: 0.3624 - acc: 0.8732 - val_loss: 0.3142 - val_acc: 0.9070\n"
       ]
      },
      {
       "output_type": "stream",
       "stream": "stdout",
       "text": [
        "Epoch 34/100\n",
        " - 1s - loss: 0.3449 - acc: 0.8770 - val_loss: 0.3001 - val_acc: 0.9081\n"
       ]
      },
      {
       "output_type": "stream",
       "stream": "stdout",
       "text": [
        "Epoch 35/100\n",
        " - 1s - loss: 0.3330 - acc: 0.8792 - val_loss: 0.2881 - val_acc: 0.9097\n"
       ]
      },
      {
       "output_type": "stream",
       "stream": "stdout",
       "text": [
        "Epoch 36/100\n",
        " - 1s - loss: 0.3194 - acc: 0.8897 - val_loss: 0.2769 - val_acc: 0.9157\n"
       ]
      },
      {
       "output_type": "stream",
       "stream": "stdout",
       "text": [
        "Epoch 37/100\n",
        " - 1s - loss: 0.3082 - acc: 0.8896 - val_loss: 0.2662 - val_acc: 0.9162\n"
       ]
      },
      {
       "output_type": "stream",
       "stream": "stdout",
       "text": [
        "Epoch 38/100\n",
        " - 1s - loss: 0.2970 - acc: 0.8946 - val_loss: 0.2568 - val_acc: 0.9173\n"
       ]
      },
      {
       "output_type": "stream",
       "stream": "stdout",
       "text": [
        "Epoch 39/100\n",
        " - 1s - loss: 0.2872 - acc: 0.9006 - val_loss: 0.2485 - val_acc: 0.9178\n"
       ]
      },
      {
       "output_type": "stream",
       "stream": "stdout",
       "text": [
        "Epoch 40/100\n",
        " - 1s - loss: 0.2761 - acc: 0.9019 - val_loss: 0.2403 - val_acc: 0.9184\n"
       ]
      },
      {
       "output_type": "stream",
       "stream": "stdout",
       "text": [
        "Epoch 41/100\n",
        " - 1s - loss: 0.2700 - acc: 0.9062 - val_loss: 0.2332 - val_acc: 0.9195\n"
       ]
      },
      {
       "output_type": "stream",
       "stream": "stdout",
       "text": [
        "Epoch 42/100\n",
        " - 1s - loss: 0.2572 - acc: 0.9088 - val_loss: 0.2264 - val_acc: 0.9222\n"
       ]
      },
      {
       "output_type": "stream",
       "stream": "stdout",
       "text": [
        "Epoch 43/100\n",
        " - 1s - loss: 0.2517 - acc: 0.9100 - val_loss: 0.2200 - val_acc: 0.9206\n"
       ]
      },
      {
       "output_type": "stream",
       "stream": "stdout",
       "text": [
        "Epoch 44/100\n",
        " - 1s - loss: 0.2443 - acc: 0.9159 - val_loss: 0.2135 - val_acc: 0.9233\n"
       ]
      },
      {
       "output_type": "stream",
       "stream": "stdout",
       "text": [
        "Epoch 45/100\n",
        " - 1s - loss: 0.2382 - acc: 0.9153 - val_loss: 0.2078 - val_acc: 0.9233\n"
       ]
      },
      {
       "output_type": "stream",
       "stream": "stdout",
       "text": [
        "Epoch 46/100\n",
        " - 1s - loss: 0.2343 - acc: 0.9184 - val_loss: 0.2024 - val_acc: 0.9255\n"
       ]
      },
      {
       "output_type": "stream",
       "stream": "stdout",
       "text": [
        "Epoch 47/100\n",
        " - 1s - loss: 0.2274 - acc: 0.9178 - val_loss: 0.1982 - val_acc: 0.9238\n"
       ]
      },
      {
       "output_type": "stream",
       "stream": "stdout",
       "text": [
        "Epoch 48/100\n",
        " - 1s - loss: 0.2249 - acc: 0.9182 - val_loss: 0.1942 - val_acc: 0.9255\n"
       ]
      },
      {
       "output_type": "stream",
       "stream": "stdout",
       "text": [
        "Epoch 49/100\n",
        " - 1s - loss: 0.2139 - acc: 0.9251 - val_loss: 0.1886 - val_acc: 0.9255\n"
       ]
      },
      {
       "output_type": "stream",
       "stream": "stdout",
       "text": [
        "Epoch 50/100\n",
        " - 1s - loss: 0.2132 - acc: 0.9233 - val_loss: 0.1848 - val_acc: 0.9266\n"
       ]
      },
      {
       "output_type": "stream",
       "stream": "stdout",
       "text": [
        "Epoch 51/100\n",
        " - 1s - loss: 0.2031 - acc: 0.9249 - val_loss: 0.1805 - val_acc: 0.9260\n"
       ]
      },
      {
       "output_type": "stream",
       "stream": "stdout",
       "text": [
        "Epoch 52/100\n",
        " - 1s - loss: 0.2030 - acc: 0.9264 - val_loss: 0.1776 - val_acc: 0.9276\n"
       ]
      },
      {
       "output_type": "stream",
       "stream": "stdout",
       "text": [
        "Epoch 53/100\n",
        " - 1s - loss: 0.1969 - acc: 0.9307 - val_loss: 0.1739 - val_acc: 0.9282\n"
       ]
      },
      {
       "output_type": "stream",
       "stream": "stdout",
       "text": [
        "Epoch 54/100\n",
        " - 1s - loss: 0.1947 - acc: 0.9302 - val_loss: 0.1702 - val_acc: 0.9304\n"
       ]
      },
      {
       "output_type": "stream",
       "stream": "stdout",
       "text": [
        "Epoch 55/100\n",
        " - 1s - loss: 0.1896 - acc: 0.9298 - val_loss: 0.1673 - val_acc: 0.9304\n"
       ]
      },
      {
       "output_type": "stream",
       "stream": "stdout",
       "text": [
        "Epoch 56/100\n",
        " - 1s - loss: 0.1836 - acc: 0.9314 - val_loss: 0.1638 - val_acc: 0.9314\n"
       ]
      },
      {
       "output_type": "stream",
       "stream": "stdout",
       "text": [
        "Epoch 57/100\n",
        " - 1s - loss: 0.1830 - acc: 0.9327 - val_loss: 0.1625 - val_acc: 0.9314\n"
       ]
      },
      {
       "output_type": "stream",
       "stream": "stdout",
       "text": [
        "Epoch 58/100\n",
        " - 1s - loss: 0.1806 - acc: 0.9347 - val_loss: 0.1583 - val_acc: 0.9353\n"
       ]
      },
      {
       "output_type": "stream",
       "stream": "stdout",
       "text": [
        "Epoch 59/100\n",
        " - 1s - loss: 0.1756 - acc: 0.9385 - val_loss: 0.1563 - val_acc: 0.9342\n"
       ]
      },
      {
       "output_type": "stream",
       "stream": "stdout",
       "text": [
        "Epoch 60/100\n",
        " - 1s - loss: 0.1732 - acc: 0.9374 - val_loss: 0.1545 - val_acc: 0.9353\n"
       ]
      },
      {
       "output_type": "stream",
       "stream": "stdout",
       "text": [
        "Epoch 61/100\n",
        " - 1s - loss: 0.1726 - acc: 0.9362 - val_loss: 0.1513 - val_acc: 0.9380\n"
       ]
      },
      {
       "output_type": "stream",
       "stream": "stdout",
       "text": [
        "Epoch 62/100\n",
        " - 1s - loss: 0.1702 - acc: 0.9365 - val_loss: 0.1492 - val_acc: 0.9391\n"
       ]
      },
      {
       "output_type": "stream",
       "stream": "stdout",
       "text": [
        "Epoch 63/100\n",
        " - 1s - loss: 0.1635 - acc: 0.9380 - val_loss: 0.1479 - val_acc: 0.9385\n"
       ]
      },
      {
       "output_type": "stream",
       "stream": "stdout",
       "text": [
        "Epoch 64/100\n",
        " - 1s - loss: 0.1611 - acc: 0.9414 - val_loss: 0.1451 - val_acc: 0.9418\n"
       ]
      },
      {
       "output_type": "stream",
       "stream": "stdout",
       "text": [
        "Epoch 65/100\n",
        " - 1s - loss: 0.1598 - acc: 0.9389 - val_loss: 0.1431 - val_acc: 0.9407\n"
       ]
      },
      {
       "output_type": "stream",
       "stream": "stdout",
       "text": [
        "Epoch 66/100\n",
        " - 1s - loss: 0.1571 - acc: 0.9418 - val_loss: 0.1411 - val_acc: 0.9412\n"
       ]
      },
      {
       "output_type": "stream",
       "stream": "stdout",
       "text": [
        "Epoch 67/100\n",
        " - 1s - loss: 0.1579 - acc: 0.9411 - val_loss: 0.1394 - val_acc: 0.9450\n"
       ]
      },
      {
       "output_type": "stream",
       "stream": "stdout",
       "text": [
        "Epoch 68/100\n",
        " - 1s - loss: 0.1543 - acc: 0.9431 - val_loss: 0.1374 - val_acc: 0.9445\n"
       ]
      },
      {
       "output_type": "stream",
       "stream": "stdout",
       "text": [
        "Epoch 69/100\n",
        " - 1s - loss: 0.1530 - acc: 0.9411 - val_loss: 0.1358 - val_acc: 0.9456\n"
       ]
      },
      {
       "output_type": "stream",
       "stream": "stdout",
       "text": [
        "Epoch 70/100\n",
        " - 1s - loss: 0.1514 - acc: 0.9423 - val_loss: 0.1343 - val_acc: 0.9483\n"
       ]
      },
      {
       "output_type": "stream",
       "stream": "stdout",
       "text": [
        "Epoch 71/100\n",
        " - 1s - loss: 0.1510 - acc: 0.9429 - val_loss: 0.1333 - val_acc: 0.9489\n"
       ]
      },
      {
       "output_type": "stream",
       "stream": "stdout",
       "text": [
        "Epoch 72/100\n",
        " - 1s - loss: 0.1498 - acc: 0.9407 - val_loss: 0.1320 - val_acc: 0.9505\n"
       ]
      },
      {
       "output_type": "stream",
       "stream": "stdout",
       "text": [
        "Epoch 73/100\n",
        " - 1s - loss: 0.1479 - acc: 0.9432 - val_loss: 0.1307 - val_acc: 0.9461\n"
       ]
      },
      {
       "output_type": "stream",
       "stream": "stdout",
       "text": [
        "Epoch 74/100\n",
        " - 1s - loss: 0.1449 - acc: 0.9436 - val_loss: 0.1294 - val_acc: 0.9461\n"
       ]
      },
      {
       "output_type": "stream",
       "stream": "stdout",
       "text": [
        "Epoch 75/100\n",
        " - 1s - loss: 0.1418 - acc: 0.9441 - val_loss: 0.1287 - val_acc: 0.9483\n"
       ]
      },
      {
       "output_type": "stream",
       "stream": "stdout",
       "text": [
        "Epoch 76/100\n",
        " - 1s - loss: 0.1412 - acc: 0.9465 - val_loss: 0.1270 - val_acc: 0.9467\n"
       ]
      },
      {
       "output_type": "stream",
       "stream": "stdout",
       "text": [
        "Epoch 77/100\n",
        " - 1s - loss: 0.1413 - acc: 0.9463 - val_loss: 0.1261 - val_acc: 0.9478\n"
       ]
      },
      {
       "output_type": "stream",
       "stream": "stdout",
       "text": [
        "Epoch 78/100\n",
        " - 1s - loss: 0.1392 - acc: 0.9454 - val_loss: 0.1253 - val_acc: 0.9467\n"
       ]
      },
      {
       "output_type": "stream",
       "stream": "stdout",
       "text": [
        "Epoch 79/100\n",
        " - 1s - loss: 0.1385 - acc: 0.9476 - val_loss: 0.1240 - val_acc: 0.9494\n"
       ]
      },
      {
       "output_type": "stream",
       "stream": "stdout",
       "text": [
        "Epoch 80/100\n",
        " - 1s - loss: 0.1376 - acc: 0.9476 - val_loss: 0.1228 - val_acc: 0.9483\n"
       ]
      },
      {
       "output_type": "stream",
       "stream": "stdout",
       "text": [
        "Epoch 81/100\n",
        " - 1s - loss: 0.1387 - acc: 0.9463 - val_loss: 0.1230 - val_acc: 0.9472\n"
       ]
      },
      {
       "output_type": "stream",
       "stream": "stdout",
       "text": [
        "Epoch 82/100\n",
        " - 1s - loss: 0.1349 - acc: 0.9465 - val_loss: 0.1214 - val_acc: 0.9483\n"
       ]
      },
      {
       "output_type": "stream",
       "stream": "stdout",
       "text": [
        "Epoch 83/100\n",
        " - 1s - loss: 0.1365 - acc: 0.9469 - val_loss: 0.1208 - val_acc: 0.9527\n"
       ]
      },
      {
       "output_type": "stream",
       "stream": "stdout",
       "text": [
        "Epoch 84/100\n",
        " - 1s - loss: 0.1329 - acc: 0.9476 - val_loss: 0.1199 - val_acc: 0.9489\n"
       ]
      },
      {
       "output_type": "stream",
       "stream": "stdout",
       "text": [
        "Epoch 85/100\n",
        " - 1s - loss: 0.1327 - acc: 0.9483 - val_loss: 0.1193 - val_acc: 0.9494\n"
       ]
      },
      {
       "output_type": "stream",
       "stream": "stdout",
       "text": [
        "Epoch 86/100\n",
        " - 1s - loss: 0.1313 - acc: 0.9499 - val_loss: 0.1187 - val_acc: 0.9538\n"
       ]
      },
      {
       "output_type": "stream",
       "stream": "stdout",
       "text": [
        "Epoch 87/100\n",
        " - 1s - loss: 0.1307 - acc: 0.9494 - val_loss: 0.1178 - val_acc: 0.9499\n"
       ]
      },
      {
       "output_type": "stream",
       "stream": "stdout",
       "text": [
        "Epoch 88/100\n",
        " - 1s - loss: 0.1307 - acc: 0.9494 - val_loss: 0.1172 - val_acc: 0.9527\n"
       ]
      },
      {
       "output_type": "stream",
       "stream": "stdout",
       "text": [
        "Epoch 89/100\n",
        " - 1s - loss: 0.1289 - acc: 0.9492 - val_loss: 0.1166 - val_acc: 0.9554\n"
       ]
      },
      {
       "output_type": "stream",
       "stream": "stdout",
       "text": [
        "Epoch 90/100\n",
        " - 1s - loss: 0.1279 - acc: 0.9503 - val_loss: 0.1159 - val_acc: 0.9499\n"
       ]
      },
      {
       "output_type": "stream",
       "stream": "stdout",
       "text": [
        "Epoch 91/100\n",
        " - 1s - loss: 0.1281 - acc: 0.9467 - val_loss: 0.1154 - val_acc: 0.9499\n"
       ]
      },
      {
       "output_type": "stream",
       "stream": "stdout",
       "text": [
        "Epoch 92/100\n",
        " - 1s - loss: 0.1273 - acc: 0.9498 - val_loss: 0.1149 - val_acc: 0.9548\n"
       ]
      },
      {
       "output_type": "stream",
       "stream": "stdout",
       "text": [
        "Epoch 93/100\n",
        " - 1s - loss: 0.1280 - acc: 0.9469 - val_loss: 0.1142 - val_acc: 0.9548\n"
       ]
      },
      {
       "output_type": "stream",
       "stream": "stdout",
       "text": [
        "Epoch 94/100\n",
        " - 1s - loss: 0.1240 - acc: 0.9519 - val_loss: 0.1139 - val_acc: 0.9505\n"
       ]
      },
      {
       "output_type": "stream",
       "stream": "stdout",
       "text": [
        "Epoch 95/100\n",
        " - 1s - loss: 0.1264 - acc: 0.9503 - val_loss: 0.1136 - val_acc: 0.9538\n"
       ]
      },
      {
       "output_type": "stream",
       "stream": "stdout",
       "text": [
        "Epoch 96/100\n",
        " - 1s - loss: 0.1252 - acc: 0.9509 - val_loss: 0.1131 - val_acc: 0.9510\n"
       ]
      },
      {
       "output_type": "stream",
       "stream": "stdout",
       "text": [
        "Epoch 97/100\n",
        " - 1s - loss: 0.1235 - acc: 0.9521 - val_loss: 0.1128 - val_acc: 0.9516\n"
       ]
      },
      {
       "output_type": "stream",
       "stream": "stdout",
       "text": [
        "Epoch 98/100\n",
        " - 1s - loss: 0.1253 - acc: 0.9490 - val_loss: 0.1132 - val_acc: 0.9554\n"
       ]
      },
      {
       "output_type": "stream",
       "stream": "stdout",
       "text": [
        "Epoch 99/100\n",
        " - 1s - loss: 0.1222 - acc: 0.9530 - val_loss: 0.1121 - val_acc: 0.9521\n"
       ]
      },
      {
       "output_type": "stream",
       "stream": "stdout",
       "text": [
        "Epoch 100/100\n",
        " - 1s - loss: 0.1219 - acc: 0.9525 - val_loss: 0.1119 - val_acc: 0.9516\n"
       ]
      }
     ],
     "prompt_number": 65
    },
    {
     "cell_type": "markdown",
     "metadata": {},
     "source": [
      "This module tests the above creatd CNN model."
     ]
    },
    {
     "cell_type": "code",
     "collapsed": false,
     "input": [
      "[loss,acc]=model.evaluate(test_data,y_test)\n",
      "print(loss,acc)"
     ],
     "language": "python",
     "metadata": {},
     "outputs": [
      {
       "output_type": "stream",
       "stream": "stdout",
       "text": [
        "\n",
        "  32/2947 [..............................] - ETA: 0s"
       ]
      },
      {
       "output_type": "stream",
       "stream": "stdout",
       "text": [
        "\n",
        " 448/2947 [===>..........................] - ETA: 0s"
       ]
      },
      {
       "output_type": "stream",
       "stream": "stdout",
       "text": [
        "\n",
        " 896/2947 [========>.....................] - ETA: 0s"
       ]
      },
      {
       "output_type": "stream",
       "stream": "stdout",
       "text": [
        "\n",
        "1344/2947 [============>.................] - ETA: 0s"
       ]
      },
      {
       "output_type": "stream",
       "stream": "stdout",
       "text": [
        "\n",
        "1792/2947 [=================>............] - ETA: 0s"
       ]
      },
      {
       "output_type": "stream",
       "stream": "stdout",
       "text": [
        "\n",
        "2112/2947 [====================>.........] - ETA: 0s"
       ]
      },
      {
       "output_type": "stream",
       "stream": "stdout",
       "text": [
        "\n",
        "2464/2947 [========================>.....] - ETA: 0s"
       ]
      },
      {
       "output_type": "stream",
       "stream": "stdout",
       "text": [
        "\n",
        "2784/2947 [===========================>..] - ETA: 0s"
       ]
      },
      {
       "output_type": "stream",
       "stream": "stdout",
       "text": [
        "\n",
        "2947/2947 [==============================] - 0s 142us/step\n"
       ]
      },
      {
       "output_type": "stream",
       "stream": "stdout",
       "text": [
        "(0.21826243139853974, 0.9124533423820834)\n"
       ]
      }
     ],
     "prompt_number": 66
    },
    {
     "cell_type": "markdown",
     "metadata": {},
     "source": [
      "Plotting the training accuracy and loss"
     ]
    },
    {
     "cell_type": "code",
     "collapsed": false,
     "input": [
      "plt.plot(history.history['acc'],'r-',history.history['val_acc'],'b-')\n",
      "plt.xlabel('Iterations')\n",
      "plt.ylabel('Accuracy')\n",
      "plt.legend(['train','validation'],loc='bottom right')\n",
      "plt.show()"
     ],
     "language": "python",
     "metadata": {},
     "outputs": [
      {
       "ename": "AttributeError",
       "evalue": "'History' object has no attribute 'history'",
       "output_type": "pyerr",
       "traceback": [
        "\u001b[0;31m---------------------------------------------------------------------------\u001b[0m\n\u001b[0;31mAttributeError\u001b[0m                            Traceback (most recent call last)",
        "\u001b[0;32m<ipython-input-64-cbcdf91cb459>\u001b[0m in \u001b[0;36m<module>\u001b[0;34m()\u001b[0m\n\u001b[0;32m----> 1\u001b[0;31m \u001b[0mplt\u001b[0m\u001b[0;34m.\u001b[0m\u001b[0mplot\u001b[0m\u001b[0;34m(\u001b[0m\u001b[0mhistory\u001b[0m\u001b[0;34m.\u001b[0m\u001b[0mhistory\u001b[0m\u001b[0;34m[\u001b[0m\u001b[0;34m'acc'\u001b[0m\u001b[0;34m]\u001b[0m\u001b[0;34m,\u001b[0m\u001b[0;34m'r-'\u001b[0m\u001b[0;34m,\u001b[0m\u001b[0mhistory\u001b[0m\u001b[0;34m.\u001b[0m\u001b[0mhistory\u001b[0m\u001b[0;34m[\u001b[0m\u001b[0;34m'val_acc'\u001b[0m\u001b[0;34m]\u001b[0m\u001b[0;34m,\u001b[0m\u001b[0;34m'b-'\u001b[0m\u001b[0;34m)\u001b[0m\u001b[0;34m\u001b[0m\u001b[0m\n\u001b[0m\u001b[1;32m      2\u001b[0m \u001b[0mplt\u001b[0m\u001b[0;34m.\u001b[0m\u001b[0mxlabel\u001b[0m\u001b[0;34m(\u001b[0m\u001b[0;34m'Iterations'\u001b[0m\u001b[0;34m)\u001b[0m\u001b[0;34m\u001b[0m\u001b[0m\n\u001b[1;32m      3\u001b[0m \u001b[0mplt\u001b[0m\u001b[0;34m.\u001b[0m\u001b[0mylabel\u001b[0m\u001b[0;34m(\u001b[0m\u001b[0;34m'Accuracy'\u001b[0m\u001b[0;34m)\u001b[0m\u001b[0;34m\u001b[0m\u001b[0m\n\u001b[1;32m      4\u001b[0m \u001b[0mplt\u001b[0m\u001b[0;34m.\u001b[0m\u001b[0mlegend\u001b[0m\u001b[0;34m(\u001b[0m\u001b[0;34m[\u001b[0m\u001b[0;34m'train'\u001b[0m\u001b[0;34m,\u001b[0m\u001b[0;34m'validation'\u001b[0m\u001b[0;34m]\u001b[0m\u001b[0;34m,\u001b[0m\u001b[0mloc\u001b[0m\u001b[0;34m=\u001b[0m\u001b[0;34m'bottom right'\u001b[0m\u001b[0;34m)\u001b[0m\u001b[0;34m\u001b[0m\u001b[0m\n\u001b[1;32m      5\u001b[0m \u001b[0mplt\u001b[0m\u001b[0;34m.\u001b[0m\u001b[0mshow\u001b[0m\u001b[0;34m(\u001b[0m\u001b[0;34m)\u001b[0m\u001b[0;34m\u001b[0m\u001b[0m\n",
        "\u001b[0;31mAttributeError\u001b[0m: 'History' object has no attribute 'history'"
       ]
      }
     ],
     "prompt_number": 64
    },
    {
     "cell_type": "code",
     "collapsed": false,
     "input": [
      "plt.plot(history.history['loss'],'r-',history.history['val_loss'],'b-')\n",
      "plt.xlabel('Iterations')\n",
      "plt.ylabel('Loss')\n",
      "plt.legend(['train','validation'],loc='bottom right')\n",
      "plt.show()"
     ],
     "language": "python",
     "metadata": {},
     "outputs": [
      {
       "metadata": {},
       "output_type": "display_data",
       "png": "[encoded data removed]",
       "text": [
        "<matplotlib.figure.Figure at 0x7f99c04c79d0>"
       ]
      }
     ],
     "prompt_number": 62
    },
    {
     "cell_type": "heading",
     "level": 4,
     "metadata": {},
     "source": [
      "Recurrent Neural Network"
     ]
    },
    {
     "cell_type": "markdown",
     "metadata": {},
     "source": [
      "This module train a RNN for the same task."
     ]
    },
    {
     "cell_type": "code",
     "collapsed": false,
     "input": [
      "# RNN Train\n",
      "from keras.layers import LSTM,RNN\n",
      "\n",
      "history=History()\n",
      "\n",
      "model=Sequential()\n",
      "model.add(LSTM(units=128,activation='sigmoid',input_shape=(time_steps,channels),dropout=0.3))\n",
      "model.add(Dense(6,activation='softmax'))\n",
      "\n",
      "print(model.summary())\n",
      "rmsprop=keras.optimizers.RMSprop(lr=0.0001)\n",
      "adam=keras.optimizers.Adam(lr=0.0001)\n",
      "model.compile(optimizer=rmsprop,loss='categorical_crossentropy',metrics=['accuracy'])\n",
      "# history=model.fit(x_train,y_train,epochs=100,batch_size=batch,validation_data=(x_val,y_val),verbose=2)"
     ],
     "language": "python",
     "metadata": {},
     "outputs": [
      {
       "output_type": "stream",
       "stream": "stdout",
       "text": [
        "_________________________________________________________________\n",
        "Layer (type)                 Output Shape              Param #   \n",
        "=================================================================\n",
        "lstm_17 (LSTM)               (None, 128)               70656     \n",
        "_________________________________________________________________\n",
        "dense_16 (Dense)             (None, 6)                 774       \n",
        "=================================================================\n",
        "Total params: 71,430\n",
        "Trainable params: 71,430\n",
        "Non-trainable params: 0\n",
        "_________________________________________________________________\n",
        "None\n"
       ]
      }
     ],
     "prompt_number": 63
    },
    {
     "cell_type": "markdown",
     "metadata": {},
     "source": [
      "Plotting the training accuracy and loss"
     ]
    },
    {
     "cell_type": "code",
     "collapsed": false,
     "input": [
      "plt.plot(history.history['acc'],'r-',history.history['val_acc'],'b-')\n",
      "plt.xlabel('Iterations')\n",
      "plt.ylabel('Accuracy')\n",
      "plt.legend(['train','validation'],loc='bottom right')\n",
      "plt.show()"
     ],
     "language": "python",
     "metadata": {},
     "outputs": []
    },
    {
     "cell_type": "code",
     "collapsed": false,
     "input": [
      "plt.plot(history.history['loss'],'r-',history.history['val_loss'],'b-')\n",
      "plt.xlabel('Iterations')\n",
      "plt.ylabel('Loss')\n",
      "plt.legend(['train','validation'],loc='bottom right')\n",
      "plt.show()"
     ],
     "language": "python",
     "metadata": {},
     "outputs": []
    },
    {
     "cell_type": "code",
     "collapsed": false,
     "input": [
      "[loss,acc]=model.evaluate(test_data,y_test)\n",
      "print(loss,acc)"
     ],
     "language": "python",
     "metadata": {},
     "outputs": [
      {
       "output_type": "stream",
       "stream": "stdout",
       "text": [
        "\n",
        "  32/2947 [..............................] - ETA: 2s"
       ]
      },
      {
       "output_type": "stream",
       "stream": "stdout",
       "text": [
        "\n",
        " 128/2947 [>.............................] - ETA: 2s"
       ]
      },
      {
       "output_type": "stream",
       "stream": "stdout",
       "text": [
        "\n",
        " 224/2947 [=>............................] - ETA: 1s"
       ]
      },
      {
       "output_type": "stream",
       "stream": "stdout",
       "text": [
        "\n",
        " 288/2947 [=>............................] - ETA: 2s"
       ]
      },
      {
       "output_type": "stream",
       "stream": "stdout",
       "text": [
        "\n",
        " 352/2947 [==>...........................] - ETA: 2s"
       ]
      },
      {
       "output_type": "stream",
       "stream": "stdout",
       "text": [
        "\n",
        " 416/2947 [===>..........................] - ETA: 1s"
       ]
      },
      {
       "output_type": "stream",
       "stream": "stdout",
       "text": [
        "\n",
        " 480/2947 [===>..........................] - ETA: 1s"
       ]
      },
      {
       "output_type": "stream",
       "stream": "stdout",
       "text": [
        "\n",
        " 544/2947 [====>.........................] - ETA: 1s"
       ]
      },
      {
       "output_type": "stream",
       "stream": "stdout",
       "text": [
        "\n",
        " 608/2947 [=====>........................] - ETA: 1s"
       ]
      },
      {
       "output_type": "stream",
       "stream": "stdout",
       "text": [
        "\n",
        " 672/2947 [=====>........................] - ETA: 1s"
       ]
      },
      {
       "output_type": "stream",
       "stream": "stdout",
       "text": [
        "\n",
        " 736/2947 [======>.......................] - ETA: 1s"
       ]
      },
      {
       "output_type": "stream",
       "stream": "stdout",
       "text": [
        "\n",
        " 800/2947 [=======>......................] - ETA: 1s"
       ]
      },
      {
       "output_type": "stream",
       "stream": "stdout",
       "text": [
        "\n",
        " 864/2947 [=======>......................] - ETA: 1s"
       ]
      },
      {
       "output_type": "stream",
       "stream": "stdout",
       "text": [
        "\n",
        " 928/2947 [========>.....................] - ETA: 1s"
       ]
      },
      {
       "output_type": "stream",
       "stream": "stdout",
       "text": [
        "\n",
        " 992/2947 [=========>....................] - ETA: 1s"
       ]
      },
      {
       "output_type": "stream",
       "stream": "stdout",
       "text": [
        "\n",
        "1056/2947 [=========>....................] - ETA: 1s"
       ]
      },
      {
       "output_type": "stream",
       "stream": "stdout",
       "text": [
        "\n",
        "1120/2947 [==========>...................] - ETA: 1s"
       ]
      },
      {
       "output_type": "stream",
       "stream": "stdout",
       "text": [
        "\n",
        "1184/2947 [===========>..................] - ETA: 1s"
       ]
      },
      {
       "output_type": "stream",
       "stream": "stdout",
       "text": [
        "\n",
        "1248/2947 [===========>..................] - ETA: 1s"
       ]
      },
      {
       "output_type": "stream",
       "stream": "stdout",
       "text": [
        "\n",
        "1312/2947 [============>.................] - ETA: 1s"
       ]
      },
      {
       "output_type": "stream",
       "stream": "stdout",
       "text": [
        "\n",
        "1376/2947 [=============>................] - ETA: 1s"
       ]
      },
      {
       "output_type": "stream",
       "stream": "stdout",
       "text": [
        "\n",
        "1440/2947 [=============>................] - ETA: 1s"
       ]
      },
      {
       "output_type": "stream",
       "stream": "stdout",
       "text": [
        "\n",
        "1504/2947 [==============>...............] - ETA: 1s"
       ]
      },
      {
       "output_type": "stream",
       "stream": "stdout",
       "text": [
        "\n",
        "1568/2947 [==============>...............] - ETA: 1s"
       ]
      },
      {
       "output_type": "stream",
       "stream": "stdout",
       "text": [
        "\n",
        "1632/2947 [===============>..............] - ETA: 1s"
       ]
      },
      {
       "output_type": "stream",
       "stream": "stdout",
       "text": [
        "\n",
        "1696/2947 [================>.............] - ETA: 1s"
       ]
      },
      {
       "output_type": "stream",
       "stream": "stdout",
       "text": [
        "\n",
        "1760/2947 [================>.............] - ETA: 1s"
       ]
      },
      {
       "output_type": "stream",
       "stream": "stdout",
       "text": [
        "\n",
        "1824/2947 [=================>............] - ETA: 1s"
       ]
      },
      {
       "output_type": "stream",
       "stream": "stdout",
       "text": [
        "\n",
        "1888/2947 [==================>...........] - ETA: 0s"
       ]
      },
      {
       "output_type": "stream",
       "stream": "stdout",
       "text": [
        "\n",
        "1952/2947 [==================>...........] - ETA: 0s"
       ]
      },
      {
       "output_type": "stream",
       "stream": "stdout",
       "text": [
        "\n",
        "2016/2947 [===================>..........] - ETA: 0s"
       ]
      },
      {
       "output_type": "stream",
       "stream": "stdout",
       "text": [
        "\n",
        "2080/2947 [====================>.........] - ETA: 0s"
       ]
      },
      {
       "output_type": "stream",
       "stream": "stdout",
       "text": [
        "\n",
        "2144/2947 [====================>.........] - ETA: 0s"
       ]
      },
      {
       "output_type": "stream",
       "stream": "stdout",
       "text": [
        "\n",
        "2208/2947 [=====================>........] - ETA: 0s"
       ]
      },
      {
       "output_type": "stream",
       "stream": "stdout",
       "text": [
        "\n",
        "2272/2947 [======================>.......] - ETA: 0s"
       ]
      },
      {
       "output_type": "stream",
       "stream": "stdout",
       "text": [
        "\n",
        "2336/2947 [======================>.......] - ETA: 0s"
       ]
      },
      {
       "output_type": "stream",
       "stream": "stdout",
       "text": [
        "\n",
        "2400/2947 [=======================>......] - ETA: 0s"
       ]
      },
      {
       "output_type": "stream",
       "stream": "stdout",
       "text": [
        "\n",
        "2464/2947 [========================>.....] - ETA: 0s"
       ]
      },
      {
       "output_type": "stream",
       "stream": "stdout",
       "text": [
        "\n",
        "2528/2947 [========================>.....] - ETA: 0s"
       ]
      },
      {
       "output_type": "stream",
       "stream": "stdout",
       "text": [
        "\n",
        "2592/2947 [=========================>....] - ETA: 0s"
       ]
      },
      {
       "output_type": "stream",
       "stream": "stdout",
       "text": [
        "\n",
        "2656/2947 [==========================>...] - ETA: 0s"
       ]
      },
      {
       "output_type": "stream",
       "stream": "stdout",
       "text": [
        "\n",
        "2720/2947 [==========================>...] - ETA: 0s"
       ]
      },
      {
       "output_type": "stream",
       "stream": "stdout",
       "text": [
        "\n",
        "2784/2947 [===========================>..] - ETA: 0s"
       ]
      },
      {
       "output_type": "stream",
       "stream": "stdout",
       "text": [
        "\n",
        "2848/2947 [===========================>..] - ETA: 0s"
       ]
      },
      {
       "output_type": "stream",
       "stream": "stdout",
       "text": [
        "\n",
        "2912/2947 [============================>.] - ETA: 0s"
       ]
      },
      {
       "output_type": "stream",
       "stream": "stdout",
       "text": [
        "\n",
        "2947/2947 [==============================] - 3s 899us/step\n"
       ]
      },
      {
       "output_type": "stream",
       "stream": "stdout",
       "text": [
        "(0.7648019703275113, 0.6973193077706142)\n"
       ]
      }
     ],
     "prompt_number": 35
    },
    {
     "cell_type": "markdown",
     "metadata": {},
     "source": [
      "This module tests the above created RNN model."
     ]
    },
    {
     "cell_type": "heading",
     "level": 4,
     "metadata": {},
     "source": [
      "Multi-layer Perceptron"
     ]
    },
    {
     "cell_type": "markdown",
     "metadata": {},
     "source": [
      "This module train a standard MLP with just one hidden layer."
     ]
    },
    {
     "cell_type": "code",
     "collapsed": false,
     "input": [
      "# Reading and storing data\n",
      "path=\"UCI HAR Dataset/UCI HAR Dataset/\"\n",
      "features=[x for x in listdir(path+\"train/Inertial Signals\") if '~' not in x]\n",
      "features1=[x for x in listdir(path+\"test/Inertial Signals\") if '~' not in x]\n",
      "cols=features+[\"Category\"]\n",
      "\n",
      "y_train=np.loadtxt(path+\"train/y_train.txt\").reshape((7352,1))-1\n",
      "y_test=np.loadtxt(path+\"test/y_test.txt\").reshape((2947,1))-1\n",
      "\n",
      "x_train=[]\n",
      "x_test=[]\n",
      "\n",
      "for i in range(len(features)):\n",
      "    print(i)\n",
      "    vals=np.loadtxt(path+'train/Inertial Signals/'+features[i])\n",
      "    vals1=np.loadtxt(path+'test/Inertial Signals/'+features1[i])\n",
      "    if i==0:\n",
      "        x_train=vals\n",
      "        x_test=vals1\n",
      "        \n",
      "    else:\n",
      "        x_train=np.hstack((x_train,vals))\n",
      "        x_test=np.hstack((x_test,vals1))\n",
      "\n",
      "# Normalize data        \n",
      "x_train=(x_train-np.mean(x_train,axis=0))/np.std(x_train,axis=0)\n",
      "x_test=(x_test-np.mean(x_test,axis=0))/np.std(x_test,axis=0)\n",
      "\n",
      "# Stratified train test split    \n",
      "x_train,x_val,y_train,y_val=train_test_split(x_train,y_train,stratify=y_train,random_state=123)    \n",
      "        \n",
      "x_train=x_train.reshape((x_train.shape[0],9,x_train.shape[1]/9))\n",
      "x_val=x_val.reshape((x_val.shape[0],9,x_val.shape[1]/9))\n",
      "x_test=x_test.reshape((x_test.shape[0],9,x_test.shape[1]/9))\n",
      "\n",
      "np.save('X_train',x_train,allow_pickle=False)\n",
      "np.save('X_val',x_val,allow_pickle=False)\n",
      "np.save('X_test',x_test,allow_pickle=False)\n",
      "np.save('Y_train',y_train,allow_pickle=False)\n",
      "np.save('Y_val',y_val,allow_pickle=False)\n",
      "np.save('Y_test',y_test,allow_pickle=False)"
     ],
     "language": "python",
     "metadata": {},
     "outputs": []
    },
    {
     "cell_type": "code",
     "collapsed": false,
     "input": [
      "#MLP\n",
      "\n",
      "from keras.utils import to_categorical\n",
      "from keras.layers import Dense,Dropout,Conv1D,BatchNormalization,MaxPool1D,Flatten\n",
      "from keras.models import Sequential\n",
      "\n",
      "# Load data\n",
      "x_train,y_train=np.load('X_train.npy',allow_pickle=False),np.load('Y_train.npy',allow_pickle=False)\n",
      "x_val,y_val=np.load('X_val.npy',allow_pickle=False),np.load('Y_val.npy',allow_pickle=False)\n",
      "x_test,y_test=np.load('X_test.npy',allow_pickle=False),np.load('Y_test.npy',allow_pickle=False)\n",
      "\n",
      "# Getting the data in required format\n",
      "mlp_x_train=x_train.reshape((x_train.shape[0],x_train.shape[1]*x_train.shape[2]))\n",
      "mlp_x_val=x_val.reshape((x_val.shape[0],x_val.shape[1]*x_val.shape[2]))\n",
      "mlp_x_test=x_test.reshape((x_test.shape[0],x_test.shape[1]*x_test.shape[2]))\n",
      "\n",
      "# One hot encoding of class labels\n",
      "y_train=to_categorical(y_train)\n",
      "y_val=to_categorical(y_val)\n",
      "y_test=to_categorical(y_test)\n"
     ],
     "language": "python",
     "metadata": {},
     "outputs": []
    },
    {
     "cell_type": "code",
     "collapsed": false,
     "input": [
      "# MLP train\n",
      "model=Sequential()\n",
      "model.add(Dense(1024,activation='relu',input_shape=(128*9,)))\n",
      "model.add(Dropout(0.5))\n",
      "model.add(Dense(6,activation='softmax'))\n",
      "model.compile(optimizer='adam',loss='categorical_crossentropy',metrics=['accuracy'])\n",
      "print(model.summary())\n",
      "model.fit(mlp_x_train,y_train,batch_size=64,epochs=10,verbose=2,validation_data=(mlp_x_val,y_val),shuffle=True)\n"
     ],
     "language": "python",
     "metadata": {},
     "outputs": []
    },
    {
     "cell_type": "code",
     "collapsed": false,
     "input": [
      "# MLP test\n",
      "[test_loss,test_acc]=model.evaluate(mlp_x_test,y_test)\n",
      "print(test_loss,test_acc)"
     ],
     "language": "python",
     "metadata": {},
     "outputs": []
    }
   ],
   "metadata": {}
  }
 ]
}